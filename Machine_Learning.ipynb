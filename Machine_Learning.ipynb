{
  "nbformat": 4,
  "nbformat_minor": 0,
  "metadata": {
    "colab": {
      "name": "Machine Learning",
      "provenance": [],
      "toc_visible": true,
      "include_colab_link": true
    },
    "kernelspec": {
      "name": "python3",
      "display_name": "Python 3"
    }
  },
  "cells": [
    {
      "cell_type": "markdown",
      "metadata": {
        "id": "view-in-github",
        "colab_type": "text"
      },
      "source": [
        "<a href=\"https://colab.research.google.com/github/atran163/Data-301/blob/master/Machine_Learning.ipynb\" target=\"_parent\"><img src=\"https://colab.research.google.com/assets/colab-badge.svg\" alt=\"Open In Colab\"/></a>"
      ]
    },
    {
      "cell_type": "code",
      "metadata": {
        "id": "gpIrywqeeU_G",
        "colab_type": "code",
        "outputId": "9beec04f-8a0d-4326-f364-11f50bc8b47b",
        "colab": {
          "base_uri": "https://localhost:8080/",
          "height": 122
        }
      },
      "source": [
        "from google.colab import drive\n",
        "drive.mount('/content/drive')"
      ],
      "execution_count": 0,
      "outputs": [
        {
          "output_type": "stream",
          "text": [
            "Go to this URL in a browser: https://accounts.google.com/o/oauth2/auth?client_id=947318989803-6bn6qk8qdgf4n4g3pfee6491hc0brc4i.apps.googleusercontent.com&redirect_uri=urn%3aietf%3awg%3aoauth%3a2.0%3aoob&response_type=code&scope=email%20https%3a%2f%2fwww.googleapis.com%2fauth%2fdocs.test%20https%3a%2f%2fwww.googleapis.com%2fauth%2fdrive%20https%3a%2f%2fwww.googleapis.com%2fauth%2fdrive.photos.readonly%20https%3a%2f%2fwww.googleapis.com%2fauth%2fpeopleapi.readonly\n",
            "\n",
            "Enter your authorization code:\n",
            "··········\n",
            "Mounted at /content/drive\n"
          ],
          "name": "stdout"
        }
      ]
    },
    {
      "cell_type": "markdown",
      "metadata": {
        "id": "T0C4MMpIHsPv",
        "colab_type": "text"
      },
      "source": [
        "# Research Question: Airbnb Prices in NYC \n",
        "NYC is a very diverse area known for its 5 boroughs. These boroughs vary drastically in terms of people, culture, and income. Does Airbnb display these variations through its listings as well? Do prices change from borough to borough and how significant are these changes? Can we also accurately predict prices and make suggestions for houses just like Airbnb does? We will see below in our Data 301 Final Project which is broken up into 3 parts: EDA, Machine Learning, and Final Conclusion. Goal: Predict Price Based on Certain Features"
      ]
    },
    {
      "cell_type": "markdown",
      "metadata": {
        "id": "prKp6wdHH0qO",
        "colab_type": "text"
      },
      "source": [
        "# Imports and Data \n",
        "\n",
        "The data and manipulations we needed from earlier to run our machine learning aspect. Also includes imports specifically for machine learning."
      ]
    },
    {
      "cell_type": "code",
      "metadata": {
        "id": "fdt5PKMxIFKg",
        "colab_type": "code",
        "colab": {}
      },
      "source": [
        "# to read the data\n",
        "import pandas as pd\n",
        "import numpy as np\n",
        "import sys\n",
        "sys.setrecursionlimit(10000000)\n",
        "import json\n",
        "from pandas.io.json import json_normalize\n",
        "import sklearn \n",
        "import warnings # the below imports were to stop displaying warnings for aesthetic appeal\n",
        "from pandas.core.common import SettingWithCopyWarning\n",
        "warnings.simplefilter(action=\"ignore\", category=SettingWithCopyWarning)\n",
        "import seaborn as sns\n",
        "\n",
        "\n",
        "# imports specifically for data collection\n",
        "from folium.plugins import MarkerCluster\n",
        "import folium\n",
        "import matplotlib.pyplot as plt\n",
        "\n",
        "#imports just for machine learning\n",
        "from sklearn.compose import make_column_transformer\n",
        "from sklearn.preprocessing import StandardScaler, OneHotEncoder\n",
        "from sklearn.pipeline import make_pipeline\n",
        "from sklearn.neighbors import KNeighborsRegressor\n",
        "from sklearn.linear_model import LinearRegression\n",
        "from sklearn.neighbors import KNeighborsClassifier\n",
        "from sklearn.model_selection import cross_val_score\n",
        "from sklearn.pipeline import make_pipeline\n",
        "from sklearn.metrics import mean_absolute_error\n",
        "from sklearn.model_selection import train_test_split\n",
        "from sklearn.ensemble import RandomForestClassifier\n",
        "from sklearn.datasets import make_classification\n",
        "from sklearn.metrics import plot_confusion_matrix\n",
        "from sklearn.metrics import confusion_matrix"
      ],
      "execution_count": 0,
      "outputs": []
    },
    {
      "cell_type": "code",
      "metadata": {
        "id": "-gu1s-36IRj0",
        "colab_type": "code",
        "outputId": "49b5bb48-95ad-4e89-e3fe-2c4d31ada9d2",
        "colab": {
          "base_uri": "https://localhost:8080/",
          "height": 71
        }
      },
      "source": [
        "df_bnb = pd.read_csv(\"listings.csv\", error_bad_lines=False, encoding = \"utf8\")\n",
        "df = df_bnb.filter([\"id\", \"name\", \"summary\", \"space\", \"description\", \"host_id\", \"host_response_rate\",\n",
        "                     \"host_is_superhost\", \"street\", \"neighbourhood\", \"city\", \"latitude\", \"longitude\", \n",
        "                     \"property_type\", \"room_type\", \"bathrooms\", \"bedrooms\", \"beds\", \"bed_type\", \"amenities\", \n",
        "                     \"square_feet\", \"price\", \"cleaning_fee\", \"number_of_reviews\", \"review_scores_rating\"]) \n",
        "df = df[df.price.str.startswith(\"$\", na=False) == True]\n",
        "df[\"price_int\"] = df[\"price\"].str.replace(\"$\", \"\").str.replace(\",\", \"\").astype(float)\n",
        "df2 = df[df.price_int < 650]\n",
        "df2 = df2[df2.price_int > 50]\n",
        "subways = json.load(open('ny_subways.json'))\n",
        "df_json_subway = json_normalize(subways, \"data\")\n",
        "df_subway = pd.DataFrame()\n",
        "df_subway = df_json_subway[11].str.split().apply(pd.Series)\n",
        "df_subway[\"longitude\"] = df_subway[1].str.replace(\"(\", \"\")\n",
        "df_subway[\"latitude\"] = df_subway[2].str.replace(\")\", \"\")\n",
        "del df_subway[0], df_subway[1], df_subway[2]\n",
        "df_subway[\"latitude_int\"] = df_subway[\"latitude\"].astype(float)\n",
        "df_subway[\"longitude_int\"] = df_subway[\"longitude\"].astype(float)\n",
        "joined = pd.read_csv(\"neighbourhoods.csv\")  # another CSV file to join on \n",
        "df = df.merge(joined, on=[\"neighbourhood\"])\n",
        "df = df.rename(columns={\"neighbourhood_group\": \"boroughs\"}) # renaming the column\n",
        "df2 = df[df.price_int < 650]\n",
        "df2 = df2[df2.price_int > 50]\n",
        "df2[\"latitude_int\"] = df2[\"latitude\"].astype(float)\n",
        "df2[\"longitude_int\"] = df2[\"longitude\"].astype(float)"
      ],
      "execution_count": 0,
      "outputs": [
        {
          "output_type": "stream",
          "text": [
            "/usr/local/lib/python3.6/dist-packages/IPython/core/interactiveshell.py:2718: DtypeWarning: Columns (61,62,94,95) have mixed types. Specify dtype option on import or set low_memory=False.\n",
            "  interactivity=interactivity, compiler=compiler, result=result)\n"
          ],
          "name": "stderr"
        }
      ]
    },
    {
      "cell_type": "code",
      "metadata": {
        "id": "TZFlQUNsJD-C",
        "colab_type": "code",
        "colab": {}
      },
      "source": [
        "#cleaning the data \n",
        "df2[\"host_response_rate\"].fillna(0, inplace = True)\n",
        "df2[\"property_type\"].fillna(\"other\", inplace = True)\n",
        "df2[\"room_type\"].fillna(\"other\", inplace = True)\n",
        "df2[\"bathrooms\"].fillna(0, inplace = True)\n",
        "df2[\"bedrooms\"].fillna(0, inplace = True)\n",
        "df2[\"beds\"].fillna(0, inplace = True)\n",
        "df2[\"bed_type\"].fillna(\"other\", inplace = True)\n",
        "df2[\"square_feet\"].fillna(0, inplace = True)\n",
        "df2[\"cleaning_fee\"].fillna(0, inplace = True)\n",
        "df2[\"price\"].fillna(0, inplace = True)\n",
        "df2[\"number_of_reviews\"].fillna(0, inplace = True)\n",
        "df2[\"review_scores_rating\"].fillna(0, inplace = True)\n",
        "df2[\"boroughs\"].fillna(\"other\", inplace = True)\n",
        "df = df[df.cleaning_fee.str.startswith(\"$\", na=False) == True]\n",
        "df2[\"cleaning_fee_int\"] = df[\"cleaning_fee\"].str.replace(\"$\", \"\").str.replace(\",\", \"\").astype(float)\n",
        "df2[\"cleaning_fee_int\"].fillna(0, inplace = True)\n",
        "df2[\"price_int\"].fillna(0, inplace = True)\n",
        "df2[\"host_response_rate_int\"] = df[\"host_response_rate\"].str.replace(\"%\", \"\").str.replace(\",\", \"\").astype(float)\n",
        "df2[\"host_response_rate_int\"].fillna(0, inplace = True)\n"
      ],
      "execution_count": 0,
      "outputs": []
    },
    {
      "cell_type": "markdown",
      "metadata": {
        "id": "blQ_Im8QI0L3",
        "colab_type": "text"
      },
      "source": [
        "# Machine Learning "
      ]
    },
    {
      "cell_type": "markdown",
      "metadata": {
        "id": "cEB9Fpu7I_OU",
        "colab_type": "text"
      },
      "source": [
        "We learned many many machine learning techniques and models to make predictions. Let's see how well we can do with predicting price. A big factor that Airbnb works with is predicting prices. Can we imitate their data scientits to make those same predictions?"
      ]
    },
    {
      "cell_type": "markdown",
      "metadata": {
        "id": "7ojy_t8rJJkx",
        "colab_type": "text"
      },
      "source": [
        "### K-Neighbors Regresssor"
      ]
    },
    {
      "cell_type": "markdown",
      "metadata": {
        "id": "TeWWjQarJLRB",
        "colab_type": "text"
      },
      "source": [
        "When it comes to prediction, our research question involved predicting price from attributes of an Airbnb. But, what attributes work best? We will use K-Neighbors Regressor to predict the price off of variables we think are best. We will then see which combination of these variables produces the lowest RMSE. We hypothesized that location, number of bathrooms, number of bedrooms, square footage, and rating are our best predictors."
      ]
    },
    {
      "cell_type": "code",
      "metadata": {
        "id": "qrr5UR4IJSq4",
        "colab_type": "code",
        "outputId": "98d22033-476d-497a-c61a-1b67e0dd81cf",
        "colab": {
          "base_uri": "https://localhost:8080/",
          "height": 156
        }
      },
      "source": [
        "# calculate estimate of test error for a given feature set\n",
        "def get_cv_error(features):\n",
        "  # define pipeline\n",
        "  pipeline = make_pipeline(\n",
        "      StandardScaler(),\n",
        "      KNeighborsRegressor(n_neighbors=20)\n",
        "  )\n",
        "  # calculate errors from cross-validation\n",
        "  cv_errs = -cross_val_score(pipeline, X=df2[features], \n",
        "                             y=df2[\"price_int\"],\n",
        "                             scoring=\"neg_mean_squared_error\", cv=10)\n",
        "  \n",
        "  # calculate average of the cross-validation errors\n",
        "  return cv_errs.mean()\n",
        "\n",
        "# calculate and store errors for different feature sets\n",
        "errs = pd.Series()\n",
        "for features in [\n",
        "                 [\"latitude_int\", \"longitude_int\"],\n",
        "                 [\"latitude_int\", \"longitude_int\", \"bathrooms\"],\n",
        "                 [\"latitude_int\", \"longitude_int\", \"bathrooms\", \"bedrooms\"],\n",
        "                 [\"latitude_int\", \"longitude_int\", \"bathrooms\", \"bedrooms\", \"square_feet\"],\n",
        "                 [\"latitude_int\", \"longitude_int\", \"bathrooms\", \"bedrooms\", \"square_feet\", \"review_scores_rating\"],\n",
        "                 [\"latitude_int\", \"longitude_int\", \"bathrooms\", \"bedrooms\", \"square_feet\", \"review_scores_rating\", \"number_of_reviews\"]]:\n",
        "  errs[str(features)] = get_cv_error(features)\n",
        "np.sqrt(errs)"
      ],
      "execution_count": 0,
      "outputs": [
        {
          "output_type": "execute_result",
          "data": {
            "text/plain": [
              "['latitude_int', 'longitude_int']                                                                                         86.649092\n",
              "['latitude_int', 'longitude_int', 'bathrooms']                                                                            82.708599\n",
              "['latitude_int', 'longitude_int', 'bathrooms', 'bedrooms']                                                                71.654620\n",
              "['latitude_int', 'longitude_int', 'bathrooms', 'bedrooms', 'square_feet']                                                 71.788255\n",
              "['latitude_int', 'longitude_int', 'bathrooms', 'bedrooms', 'square_feet', 'review_scores_rating']                         71.748626\n",
              "['latitude_int', 'longitude_int', 'bathrooms', 'bedrooms', 'square_feet', 'review_scores_rating', 'number_of_reviews']    71.708020\n",
              "dtype: float64"
            ]
          },
          "metadata": {
            "tags": []
          },
          "execution_count": 5
        }
      ]
    },
    {
      "cell_type": "markdown",
      "metadata": {
        "id": "y7_ahVLMJpGl",
        "colab_type": "text"
      },
      "source": [
        "\n",
        "\n",
        "*  Interpretation: Our lowest RMSE is using 7 predictor variables: latitude, longitude, bathrooms, bedrooms, square_feet, rating, and number of reviews. The RMSE is 71.708 which means that our predictions are off by 71 dollars.\n",
        "\n"
      ]
    },
    {
      "cell_type": "markdown",
      "metadata": {
        "id": "G7DnHx_5JtuK",
        "colab_type": "text"
      },
      "source": [
        "Now that we saw which predictor variables are best, let's see which value of K for our KNR minimizes our RMSE. We will create training and test data from our best predictors and using train_test_split"
      ]
    },
    {
      "cell_type": "code",
      "metadata": {
        "id": "UkFB6figKhTC",
        "colab_type": "code",
        "colab": {}
      },
      "source": [
        "X = df2[[\"latitude_int\", \"longitude_int\", \"bathrooms\", \"bedrooms\", \n",
        "         \"square_feet\", \"review_scores_rating\", \"number_of_reviews\"]]\n",
        "y = df2[\"price_int\"]\n",
        "X_train, X_test, y_train, y_test = train_test_split(X, y, test_size=0.33, random_state=42) "
      ],
      "execution_count": 0,
      "outputs": []
    },
    {
      "cell_type": "code",
      "metadata": {
        "id": "Wn6EXmK2J-TH",
        "colab_type": "code",
        "outputId": "7b9cba23-9ed4-42f5-9a8e-1d3eff038273",
        "colab": {
          "base_uri": "https://localhost:8080/",
          "height": 367
        }
      },
      "source": [
        "# calculate estimate of test error for a value of k\n",
        "def get_cv_error(k):\n",
        "  # define pipeline\n",
        "  pipeline = make_pipeline(\n",
        "      StandardScaler(),\n",
        "      KNeighborsRegressor(n_neighbors=k)\n",
        "  ) \n",
        "  # calculate errors from cross-validation\n",
        "  cv_errs = -cross_val_score(pipeline, X=X_train, y=y_train,\n",
        "                             scoring=\"neg_mean_squared_error\", cv=10)\n",
        "  # calculate average of the cross-validation errors\n",
        "  return cv_errs.mean()\n",
        "    \n",
        "ks = pd.Series(range(1, 50))\n",
        "ks.index = range(1, 50)\n",
        "test_errs = ks.apply(get_cv_error)\n",
        "\n",
        "test_errs.plot.line()\n",
        "test_errs.sort_values().head(5)"
      ],
      "execution_count": 0,
      "outputs": [
        {
          "output_type": "execute_result",
          "data": {
            "text/plain": [
              "19    4914.113217\n",
              "18    4916.656675\n",
              "20    4917.497067\n",
              "32    4920.827432\n",
              "23    4922.554445\n",
              "dtype: float64"
            ]
          },
          "metadata": {
            "tags": []
          },
          "execution_count": 7
        },
        {
          "output_type": "display_data",
          "data": {
            "image/png": "[encoded data removed]",
            "text/plain": [
              "<Figure size 432x288 with 1 Axes>"
            ]
          },
          "metadata": {
            "tags": []
          }
        }
      ]
    },
    {
      "cell_type": "markdown",
      "metadata": {
        "id": "1aFIfSmpKEt-",
        "colab_type": "text"
      },
      "source": [
        "\n",
        "\n",
        "*   Our best value of neighbors is 19 neigbors!\n",
        "\n"
      ]
    },
    {
      "cell_type": "markdown",
      "metadata": {
        "id": "bePNNDqnKoo2",
        "colab_type": "text"
      },
      "source": [
        "### Linear Regression"
      ]
    },
    {
      "cell_type": "markdown",
      "metadata": {
        "id": "_zxj49RhKtX9",
        "colab_type": "text"
      },
      "source": [
        "After trying KNR, let's see if linear regression can make better predictions by reducing the RMSE. We will also use cross-validation to look at the RMSE between different predictor variables.  "
      ]
    },
    {
      "cell_type": "code",
      "metadata": {
        "id": "WQFnrhCyK_lF",
        "colab_type": "code",
        "outputId": "5026c3e9-d687-4afc-c203-c5bb13f4d531",
        "colab": {
          "base_uri": "https://localhost:8080/",
          "height": 156
        }
      },
      "source": [
        "# calculate estimate of test error for a given feature set\n",
        "def get_cv_error(features):\n",
        "  # define pipeline\n",
        "  pipeline = make_pipeline(\n",
        "      StandardScaler(),\n",
        "      LinearRegression()\n",
        "  )\n",
        "  # calculate errors from cross-validation\n",
        "  cv_errs = -cross_val_score(pipeline, X=df2[features], \n",
        "                             y=df2[\"price_int\"],\n",
        "                             scoring=\"neg_mean_squared_error\", cv=10)\n",
        "  \n",
        "  # calculate average of the cross-validation errors\n",
        "  return cv_errs.mean()\n",
        "\n",
        "# calculate and store errors for different feature sets\n",
        "errs = pd.Series()\n",
        "for features in [\n",
        "                 [\"latitude_int\", \"longitude_int\"],\n",
        "                 [\"latitude_int\", \"longitude_int\", \"bathrooms\"],\n",
        "                 [\"latitude_int\", \"longitude_int\", \"bathrooms\", \"bedrooms\"],\n",
        "                 [\"latitude_int\", \"longitude_int\", \"bathrooms\", \"bedrooms\", \"square_feet\"],\n",
        "                 [\"latitude_int\", \"longitude_int\", \"bathrooms\", \"bedrooms\", \"square_feet\", \"review_scores_rating\"],\n",
        "                 [\"latitude_int\", \"longitude_int\", \"bathrooms\", \"bedrooms\", \"square_feet\", \"review_scores_rating\", \"number_of_reviews\"]]:\n",
        "  errs[str(features)] = get_cv_error(features)\n",
        "np.sqrt(errs)"
      ],
      "execution_count": 0,
      "outputs": [
        {
          "output_type": "execute_result",
          "data": {
            "text/plain": [
              "['latitude_int', 'longitude_int']                                                                                         89.763221\n",
              "['latitude_int', 'longitude_int', 'bathrooms']                                                                            86.457798\n",
              "['latitude_int', 'longitude_int', 'bathrooms', 'bedrooms']                                                                81.288435\n",
              "['latitude_int', 'longitude_int', 'bathrooms', 'bedrooms', 'square_feet']                                                 81.253258\n",
              "['latitude_int', 'longitude_int', 'bathrooms', 'bedrooms', 'square_feet', 'review_scores_rating']                         81.002703\n",
              "['latitude_int', 'longitude_int', 'bathrooms', 'bedrooms', 'square_feet', 'review_scores_rating', 'number_of_reviews']    80.927038\n",
              "dtype: float64"
            ]
          },
          "metadata": {
            "tags": []
          },
          "execution_count": 8
        }
      ]
    },
    {
      "cell_type": "markdown",
      "metadata": {
        "id": "WSwR5FtRLCrJ",
        "colab_type": "text"
      },
      "source": [
        "Our lowest MSE is still the same 7 predictor variables: latitude, longitude, bathrooms, bedrooms, square_feet, rating, and number of reviews. The MSE however this time is 80.93 which means that our predictions are off by 81 dollars. This is a bigger error than K-neighbors. Because our data was so skewed, would taking the log of price reduce our MSE closer to that of K-neighbors?"
      ]
    },
    {
      "cell_type": "code",
      "metadata": {
        "id": "jVXjIAnnLHUx",
        "colab_type": "code",
        "outputId": "968ea687-26aa-402e-edf7-758de67380a5",
        "colab": {
          "base_uri": "https://localhost:8080/",
          "height": 156
        }
      },
      "source": [
        "df2[\"log_price\"] = np.log(df2[\"price_int\"])\n",
        "# calculate estimate of test error for a given feature set\n",
        "def get_cv_error(features):\n",
        "  # define pipeline\n",
        "  pipeline = make_pipeline(\n",
        "      StandardScaler(),\n",
        "      LinearRegression()\n",
        "  )\n",
        "  # calculate errors from cross-validation\n",
        "  cv_errs = -cross_val_score(pipeline, X=df2[features], \n",
        "                             y=df2[\"log_price\"],\n",
        "                             scoring=\"neg_mean_squared_error\", cv=10)\n",
        "  \n",
        "  # calculate average of the cross-validation errors\n",
        "  return cv_errs.mean()\n",
        "\n",
        "# calculate and store errors for different feature sets\n",
        "errs = pd.Series()\n",
        "for features in [\n",
        "                 [\"latitude_int\", \"longitude_int\"],\n",
        "                 [\"latitude_int\", \"longitude_int\", \"bathrooms\"],\n",
        "                 [\"latitude_int\", \"longitude_int\", \"bathrooms\", \"bedrooms\"],\n",
        "                 [\"latitude_int\", \"longitude_int\", \"bathrooms\", \"bedrooms\", \"square_feet\"],\n",
        "                 [\"latitude_int\", \"longitude_int\", \"bathrooms\", \"bedrooms\", \"square_feet\", \"review_scores_rating\"],\n",
        "                 [\"latitude_int\", \"longitude_int\", \"bathrooms\", \"bedrooms\", \"square_feet\", \"review_scores_rating\", \"number_of_reviews\"]]:\n",
        "  errs[str(features)] = get_cv_error(features)\n",
        "np.sqrt(errs)"
      ],
      "execution_count": 0,
      "outputs": [
        {
          "output_type": "execute_result",
          "data": {
            "text/plain": [
              "['latitude_int', 'longitude_int']                                                                                         0.519779\n",
              "['latitude_int', 'longitude_int', 'bathrooms']                                                                            0.510140\n",
              "['latitude_int', 'longitude_int', 'bathrooms', 'bedrooms']                                                                0.482419\n",
              "['latitude_int', 'longitude_int', 'bathrooms', 'bedrooms', 'square_feet']                                                 0.482243\n",
              "['latitude_int', 'longitude_int', 'bathrooms', 'bedrooms', 'square_feet', 'review_scores_rating']                         0.481247\n",
              "['latitude_int', 'longitude_int', 'bathrooms', 'bedrooms', 'square_feet', 'review_scores_rating', 'number_of_reviews']    0.480942\n",
              "dtype: float64"
            ]
          },
          "metadata": {
            "tags": []
          },
          "execution_count": 10
        }
      ]
    },
    {
      "cell_type": "markdown",
      "metadata": {
        "id": "j9OjzrllLQS_",
        "colab_type": "text"
      },
      "source": [
        " Interpreting Root MSE for log(price) is a bit tricky and can cause confusion when comparing to just price itself. Let's run our best model and back-transform the results to get a more interpretable and comparable number."
      ]
    },
    {
      "cell_type": "code",
      "metadata": {
        "id": "HuJbb8WELTz2",
        "colab_type": "code",
        "outputId": "4bc99e58-c993-4ea5-b8ad-8d1aaf9ae781",
        "colab": {
          "base_uri": "https://localhost:8080/",
          "height": 34
        }
      },
      "source": [
        "X = df2[[\"latitude_int\", \"longitude_int\", \"bathrooms\", \"bedrooms\", \"square_feet\", \"review_scores_rating\", \"number_of_reviews\"]]\n",
        "y = df2[\"log_price\"]\n",
        "X_train, X_test, y_train, y_test = train_test_split(X, y, test_size=0.33, random_state=42)\n",
        "\n",
        "pipeline = make_pipeline(StandardScaler(), LinearRegression())\n",
        "pipeline.fit(X_train, y_train) \n",
        "predict_log_price = pipeline.predict(X_test) \n",
        "predict_price = np.exp(predict_log_price) \n",
        "exp_price = np.exp(y_test) \n",
        "np.sqrt(sklearn.metrics.mean_squared_error(exp_price, predict_price)) "
      ],
      "execution_count": 0,
      "outputs": [
        {
          "output_type": "execute_result",
          "data": {
            "text/plain": [
              "85.06373141545657"
            ]
          },
          "metadata": {
            "tags": []
          },
          "execution_count": 11
        }
      ]
    },
    {
      "cell_type": "markdown",
      "metadata": {
        "id": "gwonLC9nLXmF",
        "colab_type": "text"
      },
      "source": [
        "Ah a more interpretable number. Note, that this MSE is not calculated with cross-validation. We wanted to manually back transform our variables and we found that our MSE to be bigger than all of our attempted methods!"
      ]
    },
    {
      "cell_type": "markdown",
      "metadata": {
        "id": "M6kagWcqLidj",
        "colab_type": "text"
      },
      "source": [
        "### Random Forest Classifier\n",
        "\n",
        "Now that we've predicted price, can we go kind of backwards and predict which bourough a listing is in? We will do this using random forest classifier"
      ]
    },
    {
      "cell_type": "code",
      "metadata": {
        "id": "fv3qhVA4LrP5",
        "colab_type": "code",
        "outputId": "0cb53d55-e4fe-47db-d33a-4637b725a915",
        "colab": {
          "base_uri": "https://localhost:8080/",
          "height": 34
        }
      },
      "source": [
        "X = df2[[\"latitude_int\", \"longitude_int\", \"bathrooms\", \"bedrooms\", \"square_feet\", \"review_scores_rating\", \"number_of_reviews\"]]\n",
        "y = df2[\"boroughs\"]\n",
        "X_train, X_test, y_train, y_test = train_test_split(X, y, test_size=0.33, random_state=42)\n",
        "\n",
        "pipeline = make_pipeline(\n",
        "    StandardScaler(),\n",
        "    RandomForestClassifier(max_depth=2, random_state=0, class_weight = \"balanced\")\n",
        ")\n",
        "# calculate errors from cross-validation\n",
        "cv_errs = cross_val_score(pipeline, X=X, \n",
        "                          y=df2[\"boroughs\"],\n",
        "                          scoring=\"f1_micro\", cv=10)\n",
        "# calculate average of the cross-validation errors\n",
        "cv_errs.mean()"
      ],
      "execution_count": 0,
      "outputs": [
        {
          "output_type": "execute_result",
          "data": {
            "text/plain": [
              "0.5790681507537195"
            ]
          },
          "metadata": {
            "tags": []
          },
          "execution_count": 12
        }
      ]
    },
    {
      "cell_type": "markdown",
      "metadata": {
        "id": "RW3KxxbjLtpx",
        "colab_type": "text"
      },
      "source": [
        "Our f1 score is okay, it's not the best. But what does this mean? Let's visualize it with a confusion matrix "
      ]
    },
    {
      "cell_type": "code",
      "metadata": {
        "id": "xjoC6qTxL2KY",
        "colab_type": "code",
        "outputId": "5bfaa8dd-a458-4d0d-a6c9-a3ca8ea49067",
        "colab": {
          "base_uri": "https://localhost:8080/",
          "height": 693
        }
      },
      "source": [
        "clf = RandomForestClassifier(max_depth=2, random_state=0, class_weight= \"balanced\")\n",
        "clf.fit(X_train, y_train)\n",
        "predicted_boroughs = clf.predict(X_test)\n",
        "\n",
        "cmatrix = confusion_matrix(y_test, predicted_boroughs, labels=y_test.unique())\n",
        "\n",
        "fig, ax = plt.subplots(figsize=(12,12))\n",
        "disp = plot_confusion_matrix(clf, X_test, y_test,\n",
        "                                 cmap=plt.cm.Blues,\n",
        "                                 normalize=\"true\", \n",
        "                                 ax = ax)"
      ],
      "execution_count": 0,
      "outputs": [
        {
          "output_type": "display_data",
          "data": {
            "image/png": "[encoded data removed]",
            "text/plain": [
              "<Figure size 864x864 with 2 Axes>"
            ]
          },
          "metadata": {
            "tags": []
          }
        }
      ]
    }
  ]
}